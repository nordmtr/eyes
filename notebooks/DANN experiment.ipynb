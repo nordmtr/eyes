{
 "cells": [
  {
   "cell_type": "code",
   "execution_count": 1,
   "id": "150c4cde",
   "metadata": {
    "ExecuteTime": {
     "end_time": "2021-08-14T20:09:00.472825Z",
     "start_time": "2021-08-14T20:08:59.574728Z"
    }
   },
   "outputs": [],
   "source": [
    "import os\n",
    "import glob\n",
    "import numpy as np\n",
    "import pandas as pd\n",
    "import matplotlib.pyplot as plt\n",
    "import random\n",
    "\n",
    "from einops.layers.torch import Rearrange\n",
    "\n",
    "from timm.data.transforms_factory import create_transform\n",
    "\n",
    "import torch\n",
    "import torch.nn as nn\n",
    "import torch.optim as optim\n",
    "from torch.utils.data import DataLoader, Dataset, random_split\n",
    "\n",
    "import torchvision\n",
    "from torchvision.datasets import ImageFolder\n",
    "from torchvision import transforms\n",
    "\n",
    "from PIL import Image\n",
    "\n",
    "from eyes.datasets import DannDataset, EyesDataset\n",
    "from eyes.models.dann import Dann, get_lambda\n",
    "\n",
    "%matplotlib inline"
   ]
  },
  {
   "cell_type": "code",
   "execution_count": 2,
   "id": "2a42eb17",
   "metadata": {
    "ExecuteTime": {
     "end_time": "2021-08-14T20:09:00.514818Z",
     "start_time": "2021-08-14T20:09:00.473900Z"
    }
   },
   "outputs": [],
   "source": [
    "device = 'cuda:1' if torch.cuda.is_available() else 'cpu'\n",
    "rand_gen = torch.manual_seed(0)\n",
    "labeled_datafolder = \"/home/dima/datasets/eyes/labeled/\"\n",
    "datafolder = \"/home/dima/datasets/eyes/train/\"\n",
    "mrl_datafolder = \"/home/dima/datasets/eyes/mrl/\""
   ]
  },
  {
   "cell_type": "code",
   "execution_count": 3,
   "id": "150210c4",
   "metadata": {
    "ExecuteTime": {
     "end_time": "2021-08-14T20:09:00.521586Z",
     "start_time": "2021-08-14T20:09:00.516808Z"
    }
   },
   "outputs": [
    {
     "name": "stderr",
     "output_type": "stream",
     "text": [
      "/home/dima/.cache/pypoetry/virtualenvs/eyes-l4De5T6N-py3.8/lib/python3.8/site-packages/torchvision/transforms/transforms.py:280: UserWarning: Argument interpolation should be of type InterpolationMode instead of int. Please, use InterpolationMode enum.\n",
      "  warnings.warn(\n"
     ]
    }
   ],
   "source": [
    "train_transform = transforms.Compose([\n",
    "    transforms.Grayscale(),\n",
    "    create_transform(24, is_training=True, auto_augment='rand-m7-n3', mean=(0.5,), std=(0.5,),),\n",
    "])\n",
    "test_transform = transforms.Compose([\n",
    "    transforms.Grayscale(),\n",
    "    create_transform(24, is_training=False, mean=(0.5,), std=(0.5,),),\n",
    "])"
   ]
  },
  {
   "cell_type": "code",
   "execution_count": 4,
   "id": "648cd440",
   "metadata": {
    "ExecuteTime": {
     "end_time": "2021-08-14T20:09:00.702745Z",
     "start_time": "2021-08-14T20:09:00.522503Z"
    }
   },
   "outputs": [],
   "source": [
    "batch_size = 512\n",
    "mrl_dataset = ImageFolder(mrl_datafolder, transform=train_transform)\n",
    "train_size = int(len(mrl_dataset) * 0.9)\n",
    "train_mrl_dataset, test_mrl_dataset = random_split(mrl_dataset, [train_size, len(mrl_dataset) - train_size])\n",
    "dataset = EyesDataset(datafolder, transform=test_transform)\n",
    "train_dataset = DannDataset(train_mrl_dataset, dataset)\n",
    "trainloader = DataLoader(train_dataset, batch_size=batch_size, shuffle=True)\n",
    "testloader = DataLoader(test_mrl_dataset, batch_size=batch_size, shuffle=False)"
   ]
  },
  {
   "cell_type": "code",
   "execution_count": 5,
   "id": "db10aecb",
   "metadata": {
    "ExecuteTime": {
     "end_time": "2021-08-14T20:09:03.532050Z",
     "start_time": "2021-08-14T20:09:00.703674Z"
    }
   },
   "outputs": [
    {
     "name": "stderr",
     "output_type": "stream",
     "text": [
      "/home/dima/.cache/pypoetry/virtualenvs/eyes-l4De5T6N-py3.8/lib/python3.8/site-packages/torch/nn/modules/lazy.py:178: UserWarning: Lazy modules are a new feature under heavy development so changes to the API or functionality can happen at any moment.\n",
      "  warnings.warn('Lazy modules are a new feature under heavy development '\n"
     ]
    }
   ],
   "source": [
    "backbone = nn.Sequential(\n",
    "    nn.Conv2d(1, 64, kernel_size=3, stride=1),\n",
    "    nn.MaxPool2d(2),\n",
    "    nn.ReLU(),\n",
    "    nn.Conv2d(64, 256, kernel_size=3, stride=1),\n",
    "    nn.MaxPool2d(2),\n",
    "    nn.ReLU(),\n",
    "    nn.Conv2d(256, 1024, kernel_size=3, stride=1),\n",
    "    nn.MaxPool2d(2),\n",
    "    nn.ReLU(),\n",
    "    Rearrange(\"b c h w -> b (c h w)\"),\n",
    ")\n",
    "\n",
    "cls_head = nn.Sequential(\n",
    "    nn.LazyLinear(2048),\n",
    "    nn.ReLU(),\n",
    "    nn.Linear(2048, 2),\n",
    ")\n",
    "\n",
    "domain_head = nn.Sequential(\n",
    "    nn.LazyLinear(2048),\n",
    "    nn.ReLU(),\n",
    "    nn.Linear(2048, 2),\n",
    ")\n",
    "\n",
    "model = Dann(backbone, cls_head, domain_head).to(device)"
   ]
  },
  {
   "cell_type": "code",
   "execution_count": 6,
   "id": "003b11bc",
   "metadata": {
    "ExecuteTime": {
     "end_time": "2021-08-14T20:09:03.535578Z",
     "start_time": "2021-08-14T20:09:03.533061Z"
    }
   },
   "outputs": [],
   "source": [
    "criterion = nn.CrossEntropyLoss()\n",
    "optimizer_B = optim.AdamW(backbone.parameters(), lr=5e-4)\n",
    "optimizer_C = optim.AdamW(cls_head.parameters(), lr=5e-4)\n",
    "optimizer_D = optim.AdamW(domain_head.parameters(), lr=5e-4)"
   ]
  },
  {
   "cell_type": "code",
   "execution_count": 7,
   "id": "c03dcd96",
   "metadata": {
    "ExecuteTime": {
     "end_time": "2021-08-14T20:11:33.712255Z",
     "start_time": "2021-08-14T20:09:03.536394Z"
    }
   },
   "outputs": [
    {
     "name": "stderr",
     "output_type": "stream",
     "text": [
      "/home/dima/.cache/pypoetry/virtualenvs/eyes-l4De5T6N-py3.8/lib/python3.8/site-packages/torchvision/transforms/functional.py:386: UserWarning: Argument interpolation should be of type InterpolationMode instead of int. Please, use InterpolationMode enum.\n",
      "  warnings.warn(\n",
      "/home/dima/.cache/pypoetry/virtualenvs/eyes-l4De5T6N-py3.8/lib/python3.8/site-packages/torch/nn/functional.py:718: UserWarning: Named tensors and all their associated APIs are an experimental feature and subject to change. Please do not use them for anything important until they are released as stable. (Triggered internally at  /pytorch/c10/core/TensorImpl.h:1156.)\n",
      "  return torch.max_pool2d(input, kernel_size, stride, padding, dilation, ceil_mode)\n"
     ]
    },
    {
     "name": "stdout",
     "output_type": "stream",
     "text": [
      "[1,    10] cls loss: 0.688 domain loss: 0.666 acc: 0.538\n",
      "[1,    20] cls loss: 0.669 domain loss: 0.570 acc: 0.602\n",
      "[1,    30] cls loss: 0.649 domain loss: 0.503 acc: 0.622\n",
      "[1,    40] cls loss: 0.628 domain loss: 0.483 acc: 0.643\n",
      "[1,    50] cls loss: 0.606 domain loss: 0.467 acc: 0.662\n",
      "[1,    60] cls loss: 0.593 domain loss: 0.422 acc: 0.671\n",
      "[1,    70] cls loss: 0.560 domain loss: 0.389 acc: 0.700\n",
      "[1,    80] cls loss: 0.537 domain loss: 0.367 acc: 0.720\n",
      "[1,    90] cls loss: 0.523 domain loss: 0.344 acc: 0.727\n",
      "[1,   100] cls loss: 0.517 domain loss: 0.313 acc: 0.723\n",
      "[1,   110] cls loss: 0.478 domain loss: 0.294 acc: 0.759\n",
      "[2,    10] cls loss: 0.466 domain loss: 1.720 acc: 0.766\n",
      "[2,    20] cls loss: 0.907 domain loss: 9.788 acc: 0.627\n",
      "[2,    30] cls loss: 0.912 domain loss: 3.661 acc: 0.557\n",
      "[2,    40] cls loss: 0.692 domain loss: 1.609 acc: 0.621\n",
      "[2,    50] cls loss: 0.595 domain loss: 1.101 acc: 0.661\n",
      "[2,    60] cls loss: 0.567 domain loss: 0.874 acc: 0.691\n",
      "[2,    70] cls loss: 0.535 domain loss: 0.805 acc: 0.724\n",
      "[2,    80] cls loss: 0.521 domain loss: 0.813 acc: 0.727\n",
      "[2,    90] cls loss: 0.514 domain loss: 0.806 acc: 0.731\n",
      "[2,   100] cls loss: 0.507 domain loss: 0.788 acc: 0.739\n",
      "[2,   110] cls loss: 0.488 domain loss: 0.787 acc: 0.754\n",
      "[3,    10] cls loss: 0.474 domain loss: 0.662 acc: 0.765\n",
      "[3,    20] cls loss: 0.485 domain loss: 0.599 acc: 0.751\n",
      "[3,    30] cls loss: 0.467 domain loss: 0.562 acc: 0.769\n",
      "[3,    40] cls loss: 0.465 domain loss: 0.560 acc: 0.770\n",
      "[3,    50] cls loss: 0.461 domain loss: 0.546 acc: 0.769\n",
      "[3,    60] cls loss: 0.464 domain loss: 0.514 acc: 0.776\n",
      "[3,    70] cls loss: 0.449 domain loss: 0.475 acc: 0.773\n",
      "[3,    80] cls loss: 0.457 domain loss: 0.464 acc: 0.778\n",
      "[3,    90] cls loss: 0.454 domain loss: 0.457 acc: 0.776\n",
      "[3,   100] cls loss: 0.437 domain loss: 0.444 acc: 0.776\n",
      "[3,   110] cls loss: 0.429 domain loss: 0.444 acc: 0.795\n",
      "[4,    10] cls loss: 0.433 domain loss: 0.479 acc: 0.788\n",
      "[4,    20] cls loss: 0.431 domain loss: 0.529 acc: 0.790\n",
      "[4,    30] cls loss: 0.420 domain loss: 0.637 acc: 0.791\n",
      "[4,    40] cls loss: 0.421 domain loss: 0.841 acc: 0.793\n",
      "[4,    50] cls loss: 0.426 domain loss: 1.247 acc: 0.784\n",
      "[4,    60] cls loss: 0.425 domain loss: 1.499 acc: 0.792\n",
      "[4,    70] cls loss: 0.453 domain loss: 1.253 acc: 0.774\n",
      "[4,    80] cls loss: 0.441 domain loss: 0.756 acc: 0.790\n",
      "[4,    90] cls loss: 0.423 domain loss: 0.575 acc: 0.797\n",
      "[4,   100] cls loss: 0.418 domain loss: 0.625 acc: 0.799\n",
      "[4,   110] cls loss: 0.456 domain loss: 0.826 acc: 0.773\n",
      "Finished Training\n"
     ]
    }
   ],
   "source": [
    "max_epochs = 4\n",
    "for epoch in range(max_epochs):\n",
    "    running_cls_loss = running_domain_loss = running_acc = 0.\n",
    "    for i, data in enumerate(trainloader):\n",
    "        (source, labels), target = data\n",
    "        source, labels, target = source.to(device), labels.to(device), target.to(device)\n",
    "        \n",
    "        features = model.get_features(torch.cat([source, target], dim=0))\n",
    "        \n",
    "        domain_labels = torch.cat([\n",
    "            torch.zeros(len(labels), device=device, dtype=torch.long), \n",
    "            torch.ones(len(labels), device=device, dtype=torch.long)\n",
    "        ])\n",
    "        domain_output = model.predict_domain(features.detach())\n",
    "        domain_loss = criterion(domain_output, domain_labels)\n",
    "        \n",
    "        optimizer_D.zero_grad()\n",
    "        domain_loss.backward()\n",
    "        optimizer_D.step()\n",
    "        \n",
    "        cls_output = model.predict_class(features[:len(labels)])\n",
    "        domain_output = model.predict_domain(features)\n",
    "        cls_loss = criterion(cls_output, labels)\n",
    "        domain_loss = criterion(domain_output, domain_labels)\n",
    "        lambda_coef = 0.1 * get_lambda(epoch, max_epochs)\n",
    "        loss = cls_loss - lambda_coef * domain_loss\n",
    "\n",
    "        optimizer_B.zero_grad()\n",
    "        optimizer_C.zero_grad()\n",
    "        \n",
    "        loss.backward()\n",
    "        \n",
    "        optimizer_B.step()\n",
    "        optimizer_C.step()\n",
    "        \n",
    "        _, predicted = torch.max(cls_output.data, 1)\n",
    "        total = labels.size(0)\n",
    "        correct = (predicted.cpu() == labels.cpu()).sum().item()\n",
    "        acc = correct / total\n",
    "        \n",
    "        running_cls_loss += cls_loss.item()\n",
    "        running_domain_loss += domain_loss.item()\n",
    "        running_acc += acc\n",
    "        if i % 10 == 9:\n",
    "            print('[%d, %5d] cls loss: %.3f domain loss: %.3f acc: %.3f' %\n",
    "                  (epoch + 1, i + 1, running_cls_loss / 10, running_domain_loss / 10, running_acc / 10))\n",
    "            running_cls_loss = running_domain_loss = running_acc = 0.\n",
    "\n",
    "print('Finished Training')"
   ]
  },
  {
   "cell_type": "code",
   "execution_count": null,
   "id": "20416777",
   "metadata": {},
   "outputs": [],
   "source": []
  }
 ],
 "metadata": {
  "kernelspec": {
   "display_name": "Python 3 (ipykernel)",
   "language": "python",
   "name": "python3"
  },
  "language_info": {
   "codemirror_mode": {
    "name": "ipython",
    "version": 3
   },
   "file_extension": ".py",
   "mimetype": "text/x-python",
   "name": "python",
   "nbconvert_exporter": "python",
   "pygments_lexer": "ipython3",
   "version": "3.8.10"
  }
 },
 "nbformat": 4,
 "nbformat_minor": 5
}
